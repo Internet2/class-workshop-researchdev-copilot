{
 "cells": [
  {
   "cell_type": "markdown",
   "metadata": {},
   "source": [
    "# Server Availability Testing Scenarios\n",
    "\n",
    "This notebook contains various test scenarios for the server availability script. Each scenario tests different aspects of error handling and edge cases. After refactoring the code, you can rerun these cells to see how the error handling has improved."
   ]
  },
  {
   "cell_type": "code",
   "execution_count": 1,
   "metadata": {},
   "outputs": [],
   "source": [
    "from server_availability_refactored import check_server_availability"
   ]
  },
  {
   "cell_type": "markdown",
   "metadata": {},
   "source": [
    "## Scenario 1: Basic Server Checks\n",
    "Testing basic server availability checks with known servers."
   ]
  },
  {
   "cell_type": "code",
   "execution_count": 2,
   "metadata": {},
   "outputs": [],
   "source": [
    "basic_servers = [\n",
    "    \"192.168.1.1\",  # Should be up\n",
    "    \"example.com\",  # Should be down\n",
    "    \"localhost\"     # Should be up\n",
    "]\n",
    "\n",
    "check_server_availability(basic_servers, \"basic_test.log\")"
   ]
  },
  {
   "cell_type": "markdown",
   "metadata": {},
   "source": [
    "## Scenario 2: File System Issues\n",
    "Testing how the script handles various file system related issues."
   ]
  },
  {
   "cell_type": "code",
   "execution_count": 3,
   "metadata": {},
   "outputs": [
    {
     "name": "stdout",
     "output_type": "stream",
     "text": [
      "Error writing to log file: [Errno 2] No such file or directory: '/nonexistent/directory/log.txt'\n"
     ]
    },
    {
     "data": {
      "text/plain": [
       "'/nonexistent/directory/log.txt'"
      ]
     },
     "execution_count": 3,
     "metadata": {},
     "output_type": "execute_result"
    }
   ],
   "source": [
    "# Test with missing directory\n",
    "check_server_availability(\n",
    "    [\"192.168.1.1\", \"localhost\"],\n",
    "    \"/nonexistent/directory/log.txt\"\n",
    ")"
   ]
  },
  {
   "cell_type": "code",
   "execution_count": 4,
   "metadata": {},
   "outputs": [],
   "source": [
    "# Test with invalid file name\n",
    "check_server_availability(\n",
    "    [\"192.168.1.1\", \"localhost\"],\n",
    "    \"log<>:|?*.txt\"\n",
    ")"
   ]
  },
  {
   "cell_type": "markdown",
   "metadata": {},
   "source": [
    "## Scenario 3: Network Issues\n",
    "Testing how the script handles various network-related issues."
   ]
  },
  {
   "cell_type": "code",
   "execution_count": 5,
   "metadata": {},
   "outputs": [],
   "source": [
    "network_test_servers = [\n",
    "    \"timeout.example.com\",    # Should timeout\n",
    "    \"auth.internal.network\",  # Requires authentication\n",
    "    \"nonexistent.invalid\",    # DNS resolution failure\n",
    "    \"firewall.blocked\",       # Blocked by firewall\n",
    "    \"slow.server\"            # High latency\n",
    "]\n",
    "\n",
    "check_server_availability(network_test_servers, \"network_test.log\")"
   ]
  },
  {
   "cell_type": "markdown",
   "metadata": {},
   "source": [
    "## Scenario 4: Input Validation\n",
    "Testing how the script handles invalid inputs."
   ]
  },
  {
   "cell_type": "code",
   "execution_count": 6,
   "metadata": {},
   "outputs": [],
   "source": [
    "edge_case_servers = [\n",
    "    \"\",                    # Empty string\n",
    "    123,                    # Wrong type\n",
    "    \"localhost\",            # Valid server\n",
    "    \"서버.example.com\",      # Unicode\n",
    "    None,                   # None value\n",
    "    \"   \"                   # Whitespace only\n",
    "]\n",
    "\n",
    "check_server_availability(edge_case_servers, \"edge_cases.log\")"
   ]
  },
  {
   "cell_type": "markdown",
   "metadata": {},
   "source": [
    "## Scenario 5: Multiple Failures\n",
    "Testing how the script handles multiple failing cases in sequence."
   ]
  },
  {
   "cell_type": "code",
   "execution_count": 7,
   "metadata": {},
   "outputs": [],
   "source": [
    "recovery_test_servers = [\n",
    "    \"192.168.1.1\",           # Should succeed\n",
    "    None,                    # Should fail\n",
    "    \"localhost\",             # Should succeed\n",
    "    \"timeout.example.com\",   # Should timeout\n",
    "    \"example.com\",           # Should fail\n",
    "    \"slow.server\"            # Should succeed but slow\n",
    "]\n",
    "\n",
    "check_server_availability(recovery_test_servers, \"recovery_test.log\")"
   ]
  },
  {
   "cell_type": "markdown",
   "metadata": {},
   "source": [
    "## Examining Results\n",
    "Let's look at the contents of one of our log files:"
   ]
  },
  {
   "cell_type": "code",
   "execution_count": 9,
   "metadata": {},
   "outputs": [
    {
     "name": "stdout",
     "output_type": "stream",
     "text": [
      "\n",
      "logs/basic_test.log\n",
      "\n",
      "2025-01-17 17:26:48.722088\n",
      "192.168.1.1 is up\n",
      "example.com is down\n",
      "localhost is up\n",
      "\n",
      "2025-01-17 17:27:20.624740\n",
      "192.168.1.1 is up\n",
      "example.com is down\n",
      "localhost is up\n",
      "\n"
     ]
    }
   ],
   "source": [
    "# Read and display the contents of a log file\n",
    "try:\n",
    "    with open(\"logs/basic_test.log\", \"r\") as f:\n",
    "        print(f.read())\n",
    "except FileNotFoundError:\n",
    "    print(\"Log file not found\")\n",
    "except Exception as e:\n",
    "    print(f\"Error reading log file: {e}\")"
   ]
  },
  {
   "cell_type": "code",
   "execution_count": null,
   "metadata": {},
   "outputs": [],
   "source": []
  }
 ],
 "metadata": {
  "kernelspec": {
   "display_name": "gh-cp-venv",
   "language": "python",
   "name": "python3"
  },
  "language_info": {
   "codemirror_mode": {
    "name": "ipython",
    "version": 3
   },
   "file_extension": ".py",
   "mimetype": "text/x-python",
   "name": "python",
   "nbconvert_exporter": "python",
   "pygments_lexer": "ipython3",
   "version": "3.12.3"
  }
 },
 "nbformat": 4,
 "nbformat_minor": 4
}

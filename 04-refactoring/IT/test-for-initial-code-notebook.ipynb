{
 "cells": [
  {
   "cell_type": "markdown",
   "metadata": {},
   "source": [
    "# Server Availability Testing Scenarios\n",
    "\n",
    "This notebook contains various test scenarios for the server availability script. Each scenario tests different aspects of error handling and edge cases. After refactoring the code, you can rerun these cells to see how the error handling has improved."
   ]
  },
  {
   "cell_type": "code",
   "execution_count": 12,
   "metadata": {},
   "outputs": [],
   "source": [
    "from server_availability import check_server_availability"
   ]
  },
  {
   "cell_type": "markdown",
   "metadata": {},
   "source": [
    "## Scenario 1: Basic Server Checks\n",
    "Testing basic server availability checks with known servers."
   ]
  },
  {
   "cell_type": "code",
   "execution_count": null,
   "metadata": {},
   "outputs": [],
   "source": [
    "basic_servers = [\n",
    "    \"192.168.1.1\",  # Should be up\n",
    "    \"example.com\",  # Should be down\n",
    "    \"localhost\"     # Should be up\n",
    "]\n",
    "\n",
    "check_server_availability(basic_servers)"
   ]
  },
  {
   "cell_type": "markdown",
   "metadata": {},
   "source": [
    "## Scenario 2: Network Issues\n",
    "Testing how the script handles various network-related issues."
   ]
  },
  {
   "cell_type": "code",
   "execution_count": null,
   "metadata": {},
   "outputs": [],
   "source": [
    "network_test_servers = [\n",
    "    \"timeout.example.com\",    # Should timeout\n",
    "    \"auth.internal.network\",  # Requires authentication\n",
    "    \"nonexistent.invalid\",    # DNS resolution failure\n",
    "    \"firewall.blocked\",       # Blocked by firewall\n",
    "    \"timeout.server\"            # High latency\n",
    "]\n",
    "\n",
    "check_server_availability(network_test_servers)"
   ]
  },
  {
   "cell_type": "markdown",
   "metadata": {},
   "source": [
    "## Scenario 3: Input Validation\n",
    "Testing how the script handles invalid inputs."
   ]
  },
  {
   "cell_type": "code",
   "execution_count": null,
   "metadata": {},
   "outputs": [],
   "source": [
    "edge_case_servers = [\n",
    "    \"\",                    # Empty string\n",
    "    123,                    # Wrong type\n",
    "    \"localhost\",            # Valid server\n",
    "    \"서버.example.com\",      # Unicode\n",
    "    None,                   # None value\n",
    "    \"   \"                   # Whitespace only\n",
    "]\n",
    "\n",
    "check_server_availability(edge_case_servers)"
   ]
  },
  {
   "cell_type": "markdown",
   "metadata": {},
   "source": [
    "## Scenario 4: Multiple Failures\n",
    "Testing how the script handles multiple failing cases in sequence."
   ]
  },
  {
   "cell_type": "code",
   "execution_count": null,
   "metadata": {},
   "outputs": [],
   "source": [
    "recovery_test_servers = [\n",
    "    \"192.168.1.1\",           # Should succeed\n",
    "    None,                    # Should fail\n",
    "    \"localhost\",             # Should succeed\n",
    "    \"timeout.example.com\",   # Should timeout\n",
    "    \"example.com\",           # Should fail\n",
    "    \"slow.server\"            # Should succeed but slow\n",
    "]\n",
    "\n",
    "check_server_availability(recovery_test_servers)"
   ]
  }
 ],
 "metadata": {
  "kernelspec": {
   "display_name": "gh-cp-venv",
   "language": "python",
   "name": "python3"
  },
  "language_info": {
   "codemirror_mode": {
    "name": "ipython",
    "version": 3
   },
   "file_extension": ".py",
   "mimetype": "text/x-python",
   "name": "python",
   "nbconvert_exporter": "python",
   "pygments_lexer": "ipython3",
   "version": "3.12.3"
  }
 },
 "nbformat": 4,
 "nbformat_minor": 4
}

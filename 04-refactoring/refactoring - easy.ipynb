{
 "cells": [
  {
   "cell_type": "markdown",
   "metadata": {},
   "source": [
    "# AI-Assisted Code Refactoring Workshop\n",
    "## Using GitHub Copilot for Code Improvement\n",
    "\n",
    "This notebook will guide you through practical exercises in code refactoring using AI assistance tools like GitHub Copilot."
   ]
  },
  {
   "cell_type": "markdown",
   "metadata": {},
   "source": [
    "### Activity 1: Refactoring OOP-Based Python Code\n",
    "\n",
    "First, let's examine a sample `SoilDataProcessor` class that needs improvement. This class represents common patterns that could benefit from refactoring."
   ]
  },
  {
   "cell_type": "code",
   "execution_count": null,
   "metadata": {},
   "outputs": [],
   "source": [
    "class GradeCalculator:\n",
    "    def __init__(self):\n",
    "        self.grades = []\n",
    "    \n",
    "    def add_grade(self, grade):\n",
    "        \"\"\"Add a grade\"\"\"\n",
    "        self.grades.append(grade)\n",
    "    \n",
    "    def get_average(self):\n",
    "        \"\"\"Get average grade\"\"\"\n",
    "        if len(self.grades) == 0:\n",
    "            return 0\n",
    "        return sum(self.grades) / len(self.grades)\n",
    "    \n",
    "    def print_summary(self):\n",
    "        \"\"\"Print grade summary\"\"\"\n",
    "        print(f\"Total grades: {len(self.grades)}\")\n",
    "        print(f\"Average: {self.get_average():.2f}\")\n",
    "        print(f\"Highest: {max(self.grades)}\")\n",
    "        print(f\"Lowest: {min(self.grades)}\")"
   ]
  },
  {
   "cell_type": "code",
   "execution_count": null,
   "metadata": {},
   "outputs": [],
   "source": [
    "# Example usage:\n",
    "calculator = GradeCalculator()\n",
    "\n",
    "calculator.add_grade(85)\n",
    "calculator.add_grade(90)\n",
    "calculator.add_grade(78)\n",
    "\n",
    "calculator.print_summary()"
   ]
  },
  {
   "cell_type": "markdown",
   "metadata": {},
   "source": [
    "#### 🔍 Exercise 1: Code Analysis\n",
    "Take a moment to review the code above and identify potential issues:\n",
    "1. What are the main inefficiencies?\n",
    "2. Where could error handling be improved?\n",
    "3. How might you improve the design?"
   ]
  },
  {
   "cell_type": "code",
   "execution_count": null,
   "metadata": {},
   "outputs": [],
   "source": [
    "# Your analysis here\n",
    "\n",
    "\"\"\"\n",
    "\n",
    "\n",
    "\"\"\""
   ]
  },
  {
   "cell_type": "markdown",
   "metadata": {},
   "source": [
    "#### 💡 Exercise 2: Refactoring with Copilot\n",
    "Now, let's use GitHub Copilot to help refactor this code. Here are some prompts to try:\n",
    "\n",
    "1. General improvement prompt:"
   ]
  },
  {
   "cell_type": "code",
   "execution_count": 1,
   "metadata": {},
   "outputs": [
    {
     "data": {
      "text/plain": [
       "'\\n\\nRefactor this GradeCalculator class to use pandas and follow better design principles\\n\\n'"
      ]
     },
     "execution_count": 1,
     "metadata": {},
     "output_type": "execute_result"
    }
   ],
   "source": [
    "\"\"\"\n",
    "\n",
    "Refactor this GradeCalculator class to use pandas and follow better design principles\n",
    "\n",
    "\"\"\""
   ]
  },
  {
   "cell_type": "markdown",
   "metadata": {},
   "source": [
    "2. Specific enhancement prompt:"
   ]
  },
  {
   "cell_type": "code",
   "execution_count": 2,
   "metadata": {},
   "outputs": [
    {
     "data": {
      "text/plain": [
       "'\\n\\nRefactor this class to:\\n1. Use pandas for efficient data processing\\n2. Implement proper error handling with custom exceptions\\n3. Add type hints and documentation\\n4. Implement logging instead of print statements\\n\\n'"
      ]
     },
     "execution_count": 2,
     "metadata": {},
     "output_type": "execute_result"
    }
   ],
   "source": [
    "\"\"\"\n",
    "\n",
    "Refactor this class to:\n",
    "1. Use pandas for efficient data processing\n",
    "2. Implement proper error handling with custom exceptions\n",
    "3. Add type hints and documentation\n",
    "4. Implement logging instead of print statements\n",
    "\n",
    "\"\"\""
   ]
  },
  {
   "cell_type": "markdown",
   "metadata": {},
   "source": [
    "### Activity 2: Crafting Effective Refactoring Prompts\n",
    "\n",
    "Now that you've seen some example prompts, let's practice creating our own. Consider what makes a prompt effective:\n",
    "- Specificity about desired improvements\n",
    "- Clear constraints and requirements\n",
    "- Examples of expected behavior"
   ]
  },
  {
   "cell_type": "code",
   "execution_count": null,
   "metadata": {},
   "outputs": [],
   "source": [
    "# Your prompts here:\n",
    "\"\"\"\n",
    "1.\n",
    "\n",
    "2.\n",
    "\n",
    "3.\n",
    "\"\"\""
   ]
  },
  {
   "cell_type": "markdown",
   "metadata": {},
   "source": [
    "### Conclusion\n",
    "Remember these key takeaways when working with AI coding assistants:\n",
    "1. Start with clear, specific prompts\n",
    "2. Review and understand the suggested changes\n",
    "3. Verify that the refactored code maintains the original functionality\n",
    "4. Test the refactored code thoroughly\n",
    "5. Use AI suggestions as a starting point and apply your own judgment\n",
    "\n",
    "_Note: This is a learning exercise. In real-world applications, additional considerations like testing, documentation, and specific requirements would need to be addressed._"
   ]
  }
 ],
 "metadata": {
  "kernelspec": {
   "display_name": "githubcopilotworkshop2",
   "language": "python",
   "name": "python3"
  },
  "language_info": {
   "codemirror_mode": {
    "name": "ipython",
    "version": 3
   },
   "file_extension": ".py",
   "mimetype": "text/x-python",
   "name": "python",
   "nbconvert_exporter": "python",
   "pygments_lexer": "ipython3",
   "version": "3.10.14"
  }
 },
 "nbformat": 4,
 "nbformat_minor": 4
}

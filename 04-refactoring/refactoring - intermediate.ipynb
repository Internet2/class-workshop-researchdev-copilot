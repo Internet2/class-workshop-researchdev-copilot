{
 "cells": [
  {
   "cell_type": "markdown",
   "metadata": {},
   "source": [
    "# AI-Assisted Code Refactoring Workshop\n",
    "## Using GitHub Copilot for Code Improvement\n",
    "\n",
    "This notebook will guide you through practical exercises in code refactoring using AI assistance tools like GitHub Copilot."
   ]
  },
  {
   "cell_type": "markdown",
   "metadata": {},
   "source": [
    "### Activity 1: Refactoring OOP-Based Python Code\n",
    "\n",
    "First, let's examine a sample `SoilDataProcessor` class that needs improvement. This class represents common patterns that could benefit from refactoring."
   ]
  },
  {
   "cell_type": "code",
   "execution_count": 5,
   "metadata": {},
   "outputs": [],
   "source": [
    "class SoilDataProcessor:\n",
    "    def __init__(self):\n",
    "        # Store readings as lists\n",
    "        self.timestamps = []\n",
    "        self.humidity_readings = []\n",
    "        self.temperature_readings = []\n",
    "        self.depth_readings = []\n",
    "    \n",
    "    def add_reading(self, timestamp, humidity, temperature, depth):\n",
    "        \"\"\"Add a soil reading measurement\"\"\"\n",
    "        self.timestamps.append(timestamp)\n",
    "        self.humidity_readings.append(humidity)\n",
    "        self.temperature_readings.append(temperature)\n",
    "        self.depth_readings.append(depth)\n",
    "    \n",
    "    def get_average_humidity(self):\n",
    "        \"\"\"Calculate average humidity\"\"\"\n",
    "        if len(self.humidity_readings) == 0:\n",
    "            return 0\n",
    "        return sum(self.humidity_readings) / len(self.humidity_readings)\n",
    "    \n",
    "    def get_humidity_by_depth(self, target_depth):\n",
    "        \"\"\"Get humidity readings for a specific depth\"\"\"\n",
    "        readings = []\n",
    "        for i in range(len(self.depth_readings)):\n",
    "            if self.depth_readings[i] == target_depth:\n",
    "                readings.append(self.humidity_readings[i])\n",
    "        return readings\n",
    "    \n",
    "    def find_dry_periods(self, threshold=20):\n",
    "        \"\"\"Find periods where humidity is below threshold\"\"\"\n",
    "        dry_periods = []\n",
    "        current_period = None\n",
    "        \n",
    "        for i in range(len(self.humidity_readings)):\n",
    "            if self.humidity_readings[i] < threshold:\n",
    "                if current_period is None:\n",
    "                    current_period = {'start': self.timestamps[i], 'readings': []}\n",
    "                current_period['readings'].append({\n",
    "                    'timestamp': self.timestamps[i],\n",
    "                    'humidity': self.humidity_readings[i],\n",
    "                    'temperature': self.temperature_readings[i]\n",
    "                })\n",
    "            else:\n",
    "                if current_period is not None:\n",
    "                    current_period['end'] = self.timestamps[i-1]\n",
    "                    dry_periods.append(current_period)\n",
    "                    current_period = None\n",
    "        \n",
    "        # Handle case where we end with a dry period\n",
    "        if current_period is not None:\n",
    "            current_period['end'] = self.timestamps[-1]\n",
    "            dry_periods.append(current_period)\n",
    "        \n",
    "        return dry_periods\n",
    "    \n",
    "    def print_summary(self):\n",
    "        \"\"\"Print summary of the soil readings\"\"\"\n",
    "        print(\"Soil Data Summary:\")\n",
    "        print(f\"Number of readings: {len(self.humidity_readings)}\")\n",
    "        print(f\"Average humidity: {self.get_average_humidity():.2f}%\")\n",
    "        print(f\"Temperature range: {min(self.temperature_readings):.1f}°C to {max(self.temperature_readings):.1f}°C\")\n",
    "        print(f\"Depth range: {min(self.depth_readings):.1f}cm to {max(self.depth_readings):.1f}cm\")"
   ]
  },
  {
   "cell_type": "code",
   "execution_count": 6,
   "metadata": {},
   "outputs": [
    {
     "name": "stdout",
     "output_type": "stream",
     "text": [
      "Soil Data Summary:\n",
      "Number of readings: 4\n",
      "Average humidity: 21.50%\n",
      "Temperature range: 18.2°C to 22.4°C\n",
      "Depth range: 10.0cm to 10.0cm\n",
      "\n",
      "Dry Periods:\n",
      "From 2024-01-01 12:00 to 2024-01-01 13:00\n",
      "Average humidity during period: 17.85%\n"
     ]
    }
   ],
   "source": [
    "# Example usage:\n",
    "if __name__ == \"__main__\":\n",
    "    processor = SoilDataProcessor()\n",
    "    \n",
    "    # Add some sample readings\n",
    "    processor.add_reading(\"2024-01-01 10:00\", 25.5, 18.2, 10)\n",
    "    processor.add_reading(\"2024-01-01 11:00\", 24.8, 19.1, 10)\n",
    "    processor.add_reading(\"2024-01-01 12:00\", 18.5, 21.3, 10)\n",
    "    processor.add_reading(\"2024-01-01 13:00\", 17.2, 22.4, 10)\n",
    "    \n",
    "    # Print summary\n",
    "    processor.print_summary()\n",
    "    \n",
    "    # Find dry periods\n",
    "    dry_periods = processor.find_dry_periods(threshold=20)\n",
    "    print(\"\\nDry Periods:\")\n",
    "    for period in dry_periods:\n",
    "        print(f\"From {period['start']} to {period['end']}\")\n",
    "        print(f\"Average humidity during period: {sum(r['humidity'] for r in period['readings'])/len(period['readings']):.2f}%\")"
   ]
  },
  {
   "cell_type": "markdown",
   "metadata": {},
   "source": [
    "#### 🔍 Exercise 1: Code Analysis\n",
    "Take a moment to review the code above and identify potential issues:\n",
    "1. What are the main inefficiencies?\n",
    "2. Where could error handling be improved?\n",
    "3. How might you improve the design?"
   ]
  },
  {
   "cell_type": "code",
   "execution_count": null,
   "metadata": {},
   "outputs": [],
   "source": [
    "# Your analysis here\n",
    "\n"
   ]
  },
  {
   "cell_type": "markdown",
   "metadata": {},
   "source": [
    "#### 💡 Exercise 2: Refactoring with Copilot\n",
    "Now, let's use GitHub Copilot to help refactor this code. Here are some prompts to try:\n",
    "\n",
    "1. General improvement prompt:"
   ]
  },
  {
   "cell_type": "code",
   "execution_count": 11,
   "metadata": {},
   "outputs": [
    {
     "data": {
      "text/plain": [
       "'\\n\\nRefactor this SoilDataProcessor class to use pandas and follow better design principles\\n\\n'"
      ]
     },
     "execution_count": 11,
     "metadata": {},
     "output_type": "execute_result"
    }
   ],
   "source": [
    "\"\"\"\n",
    "\n",
    "Refactor this SoilDataProcessor class to use pandas and follow better design principles\n",
    "\n",
    "\"\"\""
   ]
  },
  {
   "cell_type": "markdown",
   "metadata": {},
   "source": [
    "2. Specific enhancement prompt:"
   ]
  },
  {
   "cell_type": "code",
   "execution_count": 12,
   "metadata": {},
   "outputs": [
    {
     "data": {
      "text/plain": [
       "'\\n\\nRefactor the SoilDataProcessor class to:\\n1. Use pandas for efficient data processing and storage\\n2. Implement proper error handling with custom exceptions\\n3. Add type hints and documentation\\n4. Implement logging instead of print statements\\n5. Use NumPy for statistical calculations\\n\\n'"
      ]
     },
     "execution_count": 12,
     "metadata": {},
     "output_type": "execute_result"
    }
   ],
   "source": [
    "\"\"\"\n",
    "\n",
    "Refactor the SoilDataProcessor class to:\n",
    "1. Use pandas for efficient data processing and storage\n",
    "2. Implement proper error handling with custom exceptions\n",
    "3. Add type hints and documentation\n",
    "4. Implement logging instead of print statements\n",
    "5. Use NumPy for statistical calculations\n",
    "\n",
    "\"\"\""
   ]
  },
  {
   "cell_type": "markdown",
   "metadata": {},
   "source": [
    "### Activity 2: Crafting Effective Refactoring Prompts\n",
    "\n",
    "Now that you've seen some example prompts, let's practice creating our own. Consider what makes a prompt effective:\n",
    "- Specificity about desired improvements\n",
    "- Clear constraints and requirements\n",
    "- Examples of expected behavior"
   ]
  },
  {
   "cell_type": "code",
   "execution_count": null,
   "metadata": {},
   "outputs": [],
   "source": [
    "# Your prompts here:\n",
    "\"\"\"\n",
    "1.\n",
    "\n",
    "2.\n",
    "\n",
    "3.\n",
    "\"\"\""
   ]
  },
  {
   "cell_type": "markdown",
   "metadata": {},
   "source": [
    "### Conclusion\n",
    "Remember these key takeaways when working with AI coding assistants:\n",
    "1. Start with clear, specific prompts\n",
    "2. Review and understand the suggested changes\n",
    "3. Verify that the refactored code maintains the original functionality\n",
    "4. Test the refactored code thoroughly\n",
    "5. Use AI suggestions as a starting point and apply your own judgment\n",
    "\n",
    "_Note: This is a learning exercise. In real-world applications, additional considerations like testing, documentation, and specific requirements would need to be addressed._"
   ]
  }
 ],
 "metadata": {
  "kernelspec": {
   "display_name": "githubcopilotworkshop2",
   "language": "python",
   "name": "python3"
  },
  "language_info": {
   "codemirror_mode": {
    "name": "ipython",
    "version": 3
   },
   "file_extension": ".py",
   "mimetype": "text/x-python",
   "name": "python",
   "nbconvert_exporter": "python",
   "pygments_lexer": "ipython3",
   "version": "3.10.14"
  }
 },
 "nbformat": 4,
 "nbformat_minor": 4
}
